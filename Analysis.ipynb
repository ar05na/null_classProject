{
  "cells": [
    {
      "cell_type": "code",
      "execution_count": 1,
      "id": "545783cd-ac16-4f11-a103-5fd396178ee0",
      "metadata": {
        "scrolled": true,
        "id": "545783cd-ac16-4f11-a103-5fd396178ee0"
      },
      "outputs": [],
      "source": [
        "import tkinter as tk\n",
        "from tkinter import ttk\n",
        "from tkinter import messagebox\n",
        "import pandas as pd\n",
        "import numpy as np\n",
        "import matplotlib.pyplot as plt\n",
        "import seaborn as sns\n",
        "from matplotlib.backends.backend_tkagg import FigureCanvasTkAgg\n",
        "from sklearn.model_selection import train_test_split\n",
        "from sklearn.ensemble import RandomForestRegressor\n",
        "from sklearn.metrics import mean_squared_error, r2_score\n",
        "from nltk.sentiment.vader import SentimentIntensityAnalyzer\n",
        "import nltk"
      ]
    },
    {
      "cell_type": "code",
      "execution_count": 2,
      "id": "cc2ade50-7398-40f8-ad1d-f2330368f838",
      "metadata": {
        "id": "cc2ade50-7398-40f8-ad1d-f2330368f838",
        "outputId": "0c470af2-523f-4c62-e621-d88f36cb0288",
        "colab": {
          "base_uri": "https://localhost:8080/"
        }
      },
      "outputs": [
        {
          "output_type": "stream",
          "name": "stderr",
          "text": [
            "[nltk_data] Downloading package vader_lexicon to /root/nltk_data...\n"
          ]
        },
        {
          "output_type": "execute_result",
          "data": {
            "text/plain": [
              "True"
            ]
          },
          "metadata": {},
          "execution_count": 2
        }
      ],
      "source": [
        "nltk.download('vader_lexicon')"
      ]
    },
    {
      "cell_type": "code",
      "execution_count": 4,
      "id": "528d6406-22e7-4520-a49e-96011fe1bd49",
      "metadata": {
        "id": "528d6406-22e7-4520-a49e-96011fe1bd49"
      },
      "outputs": [],
      "source": [
        "# Step 1: Load the Dataset\n",
        "apps_df = pd.read_csv('/content/Play Store Data.csv')\n",
        "reviews_df = pd.read_csv('/content/User Reviews.csv')"
      ]
    },
    {
      "cell_type": "code",
      "execution_count": 5,
      "id": "662f85d8-2afb-4a5b-be13-2e76a3a7e873",
      "metadata": {
        "id": "662f85d8-2afb-4a5b-be13-2e76a3a7e873",
        "outputId": "706a0aa0-e3f7-4b31-fad0-f598f5c5246d",
        "colab": {
          "base_uri": "https://localhost:8080/"
        }
      },
      "outputs": [
        {
          "output_type": "stream",
          "name": "stderr",
          "text": [
            "<ipython-input-5-90e8ee5c6694>:4: FutureWarning: A value is trying to be set on a copy of a DataFrame or Series through chained assignment using an inplace method.\n",
            "The behavior will change in pandas 3.0. This inplace method will never work because the intermediate object on which we are setting values always behaves as a copy.\n",
            "\n",
            "For example, when doing 'df[col].method(value, inplace=True)', try using 'df.method({col: value}, inplace=True)' or df[col] = df[col].method(value) instead, to perform the operation inplace on the original object.\n",
            "\n",
            "\n",
            "  apps_df[column].fillna(apps_df[column].mode()[0], inplace=True)\n",
            "<ipython-input-5-90e8ee5c6694>:4: SettingWithCopyWarning: \n",
            "A value is trying to be set on a copy of a slice from a DataFrame\n",
            "\n",
            "See the caveats in the documentation: https://pandas.pydata.org/pandas-docs/stable/user_guide/indexing.html#returning-a-view-versus-a-copy\n",
            "  apps_df[column].fillna(apps_df[column].mode()[0], inplace=True)\n"
          ]
        }
      ],
      "source": [
        "# Step 2: Data Cleaning\n",
        "apps_df = apps_df.dropna(subset=['Rating'])\n",
        "for column in apps_df.columns:\n",
        "    apps_df[column].fillna(apps_df[column].mode()[0], inplace=True)\n",
        "apps_df.drop_duplicates(inplace=True)\n",
        "apps_df = apps_df[apps_df['Rating'] <= 5]\n",
        "reviews_df.dropna(subset=['Translated_Review'], inplace=True)"
      ]
    },
    {
      "cell_type": "code",
      "execution_count": 6,
      "id": "95d21dce-1099-4f3b-91e5-1685b8b50cfa",
      "metadata": {
        "id": "95d21dce-1099-4f3b-91e5-1685b8b50cfa"
      },
      "outputs": [],
      "source": [
        "# Merge datasets on 'App' and handle non-matching apps\n",
        "merged_df = pd.merge(apps_df, reviews_df, on='App', how='inner')"
      ]
    },
    {
      "cell_type": "code",
      "execution_count": 7,
      "id": "0a6a29ab-2e57-417d-a04f-62c41c6bce65",
      "metadata": {
        "id": "0a6a29ab-2e57-417d-a04f-62c41c6bce65"
      },
      "outputs": [],
      "source": [
        "# Step 3: Data Transformation\n",
        "apps_df['Reviews'] = apps_df['Reviews'].astype(int)\n",
        "apps_df['Installs'] = apps_df['Installs'].str.replace(',', '').str.replace('+', '').astype(int)\n",
        "apps_df['Price'] = apps_df['Price'].str.replace('$', '').astype(float)"
      ]
    },
    {
      "cell_type": "code",
      "execution_count": 8,
      "id": "0f55777f-6ef3-427b-83e7-63e09b75dede",
      "metadata": {
        "id": "0f55777f-6ef3-427b-83e7-63e09b75dede"
      },
      "outputs": [],
      "source": [
        "def convert_size(size):\n",
        "    if 'M' in size:\n",
        "        return float(size.replace('M', ''))\n",
        "    elif 'k' in size:\n",
        "        return float(size.replace('k', '')) / 1024\n",
        "    else:\n",
        "        return np.nan"
      ]
    },
    {
      "cell_type": "code",
      "execution_count": 9,
      "id": "346dff54-4ffe-436c-8d5d-bc3f4799593e",
      "metadata": {
        "id": "346dff54-4ffe-436c-8d5d-bc3f4799593e"
      },
      "outputs": [],
      "source": [
        "apps_df['Size'] = apps_df['Size'].apply(convert_size)"
      ]
    },
    {
      "cell_type": "code",
      "execution_count": 10,
      "id": "772fe5d4-7027-4336-8776-a56fc0053150",
      "metadata": {
        "id": "772fe5d4-7027-4336-8776-a56fc0053150"
      },
      "outputs": [],
      "source": [
        "# Add log_installs and log_reviews columns\n",
        "apps_df['Log_Installs'] = np.log1p(apps_df['Installs'])\n",
        "apps_df['Log_Reviews'] = np.log1p(apps_df['Reviews'])"
      ]
    },
    {
      "cell_type": "code",
      "execution_count": 11,
      "id": "c36ef3a6-91e6-4fb4-9ece-98f026c724ba",
      "metadata": {
        "id": "c36ef3a6-91e6-4fb4-9ece-98f026c724ba"
      },
      "outputs": [],
      "source": [
        "# Add Rating Group column\n",
        "def rating_group(rating):\n",
        "    if rating >= 4:\n",
        "        return 'Top rated'\n",
        "    elif rating >= 3:\n",
        "        return 'Above average'\n",
        "    elif rating >= 2:\n",
        "        return 'Average'\n",
        "    else:\n",
        "        return 'Below average'\n",
        "\n",
        "apps_df['Rating_Group'] = apps_df['Rating'].apply(rating_group)"
      ]
    },
    {
      "cell_type": "code",
      "execution_count": 12,
      "id": "185246ec-521e-4731-9db1-d4b33cf98642",
      "metadata": {
        "id": "185246ec-521e-4731-9db1-d4b33cf98642"
      },
      "outputs": [],
      "source": [
        "# Add Revenue column\n",
        "apps_df['Revenue'] = apps_df['Price'] * apps_df['Installs']"
      ]
    },
    {
      "cell_type": "code",
      "execution_count": 13,
      "id": "20c3e285-dc69-45bc-84f6-78818285b40b",
      "metadata": {
        "id": "20c3e285-dc69-45bc-84f6-78818285b40b"
      },
      "outputs": [],
      "source": [
        "# Sentiment Analysis\n",
        "sia = SentimentIntensityAnalyzer()\n",
        "reviews_df['Sentiment_Score'] = reviews_df['Translated_Review'].apply(lambda x: sia.polarity_scores(str(x))['compound'])"
      ]
    },
    {
      "cell_type": "code",
      "execution_count": 14,
      "id": "03fb5a1f-00d5-4fda-b6ce-2a96705e6782",
      "metadata": {
        "id": "03fb5a1f-00d5-4fda-b6ce-2a96705e6782"
      },
      "outputs": [],
      "source": [
        "# Extract year from 'Last Updated' and create 'Year' column\n",
        "apps_df['Last Updated'] = pd.to_datetime(apps_df['Last Updated'], errors='coerce')\n",
        "apps_df['Year'] = apps_df['Last Updated'].dt.year"
      ]
    },
    {
      "cell_type": "code",
      "source": [
        "!pip install pyvirtualdisplay\n",
        "!apt-get update\n",
        "!apt-get install -y xvfb\n",
        "# Add these lines at the beginning of the code, before importing tkinter\n",
        "from pyvirtualdisplay import Display\n",
        "display = Display(visible=0, size=(1200, 800))\n",
        "display.start()\n",
        "\n",
        "import tkinter as tk\n",
        "from tkinter import ttk\n",
        "from tkinter import messagebox"
      ],
      "metadata": {
        "id": "p-qRF5N2cMd3",
        "outputId": "35ec6bf5-9468-4c48-dcb8-274e21a341db",
        "colab": {
          "base_uri": "https://localhost:8080/"
        }
      },
      "id": "p-qRF5N2cMd3",
      "execution_count": 17,
      "outputs": [
        {
          "output_type": "stream",
          "name": "stdout",
          "text": [
            "Requirement already satisfied: pyvirtualdisplay in /usr/local/lib/python3.11/dist-packages (3.0)\n",
            "Hit:1 http://archive.ubuntu.com/ubuntu jammy InRelease\n",
            "Get:2 http://archive.ubuntu.com/ubuntu jammy-updates InRelease [128 kB]\n",
            "Get:3 http://security.ubuntu.com/ubuntu jammy-security InRelease [129 kB]\n",
            "Get:4 https://cloud.r-project.org/bin/linux/ubuntu jammy-cran40/ InRelease [3,632 B]\n",
            "Get:5 https://developer.download.nvidia.com/compute/cuda/repos/ubuntu2204/x86_64  InRelease [1,581 B]\n",
            "Get:6 http://archive.ubuntu.com/ubuntu jammy-backports InRelease [127 kB]\n",
            "Get:7 https://r2u.stat.illinois.edu/ubuntu jammy InRelease [6,555 B]\n",
            "Hit:8 https://ppa.launchpadcontent.net/deadsnakes/ppa/ubuntu jammy InRelease\n",
            "Hit:9 https://ppa.launchpadcontent.net/graphics-drivers/ppa/ubuntu jammy InRelease\n",
            "Get:10 http://security.ubuntu.com/ubuntu jammy-security/main amd64 Packages [2,692 kB]\n",
            "Hit:11 https://ppa.launchpadcontent.net/ubuntugis/ppa/ubuntu jammy InRelease\n",
            "Get:12 http://security.ubuntu.com/ubuntu jammy-security/universe amd64 Packages [1,236 kB]\n",
            "Get:13 https://cloud.r-project.org/bin/linux/ubuntu jammy-cran40/ Packages [69.9 kB]\n",
            "Get:14 http://archive.ubuntu.com/ubuntu jammy-updates/main amd64 Packages [3,000 kB]\n",
            "Get:15 https://developer.download.nvidia.com/compute/cuda/repos/ubuntu2204/x86_64  Packages [1,378 kB]\n",
            "Get:16 http://archive.ubuntu.com/ubuntu jammy-updates/universe amd64 Packages [1,535 kB]\n",
            "Get:17 https://r2u.stat.illinois.edu/ubuntu jammy/main all Packages [8,754 kB]\n",
            "Get:18 https://r2u.stat.illinois.edu/ubuntu jammy/main amd64 Packages [2,675 kB]\n",
            "Fetched 21.7 MB in 3s (6,334 kB/s)\n",
            "Reading package lists... Done\n",
            "W: Skipping acquire of configured file 'main/source/Sources' as repository 'https://r2u.stat.illinois.edu/ubuntu jammy InRelease' does not seem to provide it (sources.list entry misspelt?)\n",
            "Reading package lists... Done\n",
            "Building dependency tree... Done\n",
            "Reading state information... Done\n",
            "The following additional packages will be installed:\n",
            "  libfontenc1 libxfont2 libxkbfile1 x11-xkb-utils xfonts-base xfonts-encodings xfonts-utils\n",
            "  xserver-common\n",
            "The following NEW packages will be installed:\n",
            "  libfontenc1 libxfont2 libxkbfile1 x11-xkb-utils xfonts-base xfonts-encodings xfonts-utils\n",
            "  xserver-common xvfb\n",
            "0 upgraded, 9 newly installed, 0 to remove and 35 not upgraded.\n",
            "Need to get 7,814 kB of archives.\n",
            "After this operation, 12.0 MB of additional disk space will be used.\n",
            "Get:1 http://archive.ubuntu.com/ubuntu jammy/main amd64 libfontenc1 amd64 1:1.1.4-1build3 [14.7 kB]\n",
            "Get:2 http://archive.ubuntu.com/ubuntu jammy/main amd64 libxfont2 amd64 1:2.0.5-1build1 [94.5 kB]\n",
            "Get:3 http://archive.ubuntu.com/ubuntu jammy/main amd64 libxkbfile1 amd64 1:1.1.0-1build3 [71.8 kB]\n",
            "Get:4 http://archive.ubuntu.com/ubuntu jammy/main amd64 x11-xkb-utils amd64 7.7+5build4 [172 kB]\n",
            "Get:5 http://archive.ubuntu.com/ubuntu jammy/main amd64 xfonts-encodings all 1:1.0.5-0ubuntu2 [578 kB]\n",
            "Get:6 http://archive.ubuntu.com/ubuntu jammy/main amd64 xfonts-utils amd64 1:7.7+6build2 [94.6 kB]\n",
            "Get:7 http://archive.ubuntu.com/ubuntu jammy/main amd64 xfonts-base all 1:1.0.5 [5,896 kB]\n",
            "Get:8 http://archive.ubuntu.com/ubuntu jammy-updates/main amd64 xserver-common all 2:21.1.4-2ubuntu1.7~22.04.13 [29.1 kB]\n",
            "Get:9 http://archive.ubuntu.com/ubuntu jammy-updates/universe amd64 xvfb amd64 2:21.1.4-2ubuntu1.7~22.04.13 [863 kB]\n",
            "Fetched 7,814 kB in 0s (17.1 MB/s)\n",
            "Selecting previously unselected package libfontenc1:amd64.\n",
            "(Reading database ... 125044 files and directories currently installed.)\n",
            "Preparing to unpack .../0-libfontenc1_1%3a1.1.4-1build3_amd64.deb ...\n",
            "Unpacking libfontenc1:amd64 (1:1.1.4-1build3) ...\n",
            "Selecting previously unselected package libxfont2:amd64.\n",
            "Preparing to unpack .../1-libxfont2_1%3a2.0.5-1build1_amd64.deb ...\n",
            "Unpacking libxfont2:amd64 (1:2.0.5-1build1) ...\n",
            "Selecting previously unselected package libxkbfile1:amd64.\n",
            "Preparing to unpack .../2-libxkbfile1_1%3a1.1.0-1build3_amd64.deb ...\n",
            "Unpacking libxkbfile1:amd64 (1:1.1.0-1build3) ...\n",
            "Selecting previously unselected package x11-xkb-utils.\n",
            "Preparing to unpack .../3-x11-xkb-utils_7.7+5build4_amd64.deb ...\n",
            "Unpacking x11-xkb-utils (7.7+5build4) ...\n",
            "Selecting previously unselected package xfonts-encodings.\n",
            "Preparing to unpack .../4-xfonts-encodings_1%3a1.0.5-0ubuntu2_all.deb ...\n",
            "Unpacking xfonts-encodings (1:1.0.5-0ubuntu2) ...\n",
            "Selecting previously unselected package xfonts-utils.\n",
            "Preparing to unpack .../5-xfonts-utils_1%3a7.7+6build2_amd64.deb ...\n",
            "Unpacking xfonts-utils (1:7.7+6build2) ...\n",
            "Selecting previously unselected package xfonts-base.\n",
            "Preparing to unpack .../6-xfonts-base_1%3a1.0.5_all.deb ...\n",
            "Unpacking xfonts-base (1:1.0.5) ...\n",
            "Selecting previously unselected package xserver-common.\n",
            "Preparing to unpack .../7-xserver-common_2%3a21.1.4-2ubuntu1.7~22.04.13_all.deb ...\n",
            "Unpacking xserver-common (2:21.1.4-2ubuntu1.7~22.04.13) ...\n",
            "Selecting previously unselected package xvfb.\n",
            "Preparing to unpack .../8-xvfb_2%3a21.1.4-2ubuntu1.7~22.04.13_amd64.deb ...\n",
            "Unpacking xvfb (2:21.1.4-2ubuntu1.7~22.04.13) ...\n",
            "Setting up libfontenc1:amd64 (1:1.1.4-1build3) ...\n",
            "Setting up xfonts-encodings (1:1.0.5-0ubuntu2) ...\n",
            "Setting up libxkbfile1:amd64 (1:1.1.0-1build3) ...\n",
            "Setting up libxfont2:amd64 (1:2.0.5-1build1) ...\n",
            "Setting up x11-xkb-utils (7.7+5build4) ...\n",
            "Setting up xfonts-utils (1:7.7+6build2) ...\n",
            "Setting up xfonts-base (1:1.0.5) ...\n",
            "Setting up xserver-common (2:21.1.4-2ubuntu1.7~22.04.13) ...\n",
            "Setting up xvfb (2:21.1.4-2ubuntu1.7~22.04.13) ...\n",
            "Processing triggers for man-db (2.10.2-1) ...\n",
            "Processing triggers for fontconfig (2.13.1-4.2ubuntu5) ...\n",
            "Processing triggers for libc-bin (2.35-0ubuntu3.8) ...\n",
            "/sbin/ldconfig.real: /usr/local/lib/libtbb.so.12 is not a symbolic link\n",
            "\n",
            "/sbin/ldconfig.real: /usr/local/lib/libtbbbind_2_5.so.3 is not a symbolic link\n",
            "\n",
            "/sbin/ldconfig.real: /usr/local/lib/libtbbbind.so.3 is not a symbolic link\n",
            "\n",
            "/sbin/ldconfig.real: /usr/local/lib/libur_adapter_opencl.so.0 is not a symbolic link\n",
            "\n",
            "/sbin/ldconfig.real: /usr/local/lib/libtbbbind_2_0.so.3 is not a symbolic link\n",
            "\n",
            "/sbin/ldconfig.real: /usr/local/lib/libtbbmalloc.so.2 is not a symbolic link\n",
            "\n",
            "/sbin/ldconfig.real: /usr/local/lib/libumf.so.0 is not a symbolic link\n",
            "\n",
            "/sbin/ldconfig.real: /usr/local/lib/libur_loader.so.0 is not a symbolic link\n",
            "\n",
            "/sbin/ldconfig.real: /usr/local/lib/libtcm.so.1 is not a symbolic link\n",
            "\n",
            "/sbin/ldconfig.real: /usr/local/lib/libhwloc.so.15 is not a symbolic link\n",
            "\n",
            "/sbin/ldconfig.real: /usr/local/lib/libtcm_debug.so.1 is not a symbolic link\n",
            "\n",
            "/sbin/ldconfig.real: /usr/local/lib/libtbbmalloc_proxy.so.2 is not a symbolic link\n",
            "\n",
            "/sbin/ldconfig.real: /usr/local/lib/libur_adapter_level_zero.so.0 is not a symbolic link\n",
            "\n"
          ]
        }
      ]
    },
    {
      "cell_type": "code",
      "execution_count": 1,
      "id": "fe67089d-7f4e-40e4-a6a0-b962a3aa7254",
      "metadata": {
        "id": "fe67089d-7f4e-40e4-a6a0-b962a3aa7254",
        "outputId": "b3266def-4fdd-42a6-e7db-1a8dc567b9dc",
        "colab": {
          "base_uri": "https://localhost:8080/",
          "height": 211
        }
      },
      "outputs": [
        {
          "output_type": "error",
          "ename": "NameError",
          "evalue": "name 'tk' is not defined",
          "traceback": [
            "\u001b[0;31m---------------------------------------------------------------------------\u001b[0m",
            "\u001b[0;31mNameError\u001b[0m                                 Traceback (most recent call last)",
            "\u001b[0;32m<ipython-input-1-25aef4010a8c>\u001b[0m in \u001b[0;36m<cell line: 0>\u001b[0;34m()\u001b[0m\n\u001b[1;32m      1\u001b[0m \u001b[0;31m# Create Tkinter window\u001b[0m\u001b[0;34m\u001b[0m\u001b[0;34m\u001b[0m\u001b[0m\n\u001b[0;32m----> 2\u001b[0;31m \u001b[0;32mclass\u001b[0m \u001b[0mAppDashboard\u001b[0m\u001b[0;34m(\u001b[0m\u001b[0mtk\u001b[0m\u001b[0;34m.\u001b[0m\u001b[0mTk\u001b[0m\u001b[0;34m)\u001b[0m\u001b[0;34m:\u001b[0m\u001b[0;34m\u001b[0m\u001b[0;34m\u001b[0m\u001b[0m\n\u001b[0m\u001b[1;32m      3\u001b[0m     \u001b[0;32mdef\u001b[0m \u001b[0m__init__\u001b[0m\u001b[0;34m(\u001b[0m\u001b[0mself\u001b[0m\u001b[0;34m)\u001b[0m\u001b[0;34m:\u001b[0m\u001b[0;34m\u001b[0m\u001b[0;34m\u001b[0m\u001b[0m\n\u001b[1;32m      4\u001b[0m         \u001b[0msuper\u001b[0m\u001b[0;34m(\u001b[0m\u001b[0;34m)\u001b[0m\u001b[0;34m.\u001b[0m\u001b[0m__init__\u001b[0m\u001b[0;34m(\u001b[0m\u001b[0;34m)\u001b[0m\u001b[0;34m\u001b[0m\u001b[0;34m\u001b[0m\u001b[0m\n\u001b[1;32m      5\u001b[0m         \u001b[0mself\u001b[0m\u001b[0;34m.\u001b[0m\u001b[0mtitle\u001b[0m\u001b[0;34m(\u001b[0m\u001b[0;34m\"Google Play Store Analysis Dashboard\"\u001b[0m\u001b[0;34m)\u001b[0m\u001b[0;34m\u001b[0m\u001b[0;34m\u001b[0m\u001b[0m\n",
            "\u001b[0;31mNameError\u001b[0m: name 'tk' is not defined"
          ]
        }
      ],
      "source": [
        "# Create Tkinter window\n",
        "class AppDashboard(tk.Tk):\n",
        "    def __init__(self):\n",
        "        super().__init__()\n",
        "        self.title(\"Google Play Store Analysis Dashboard\")\n",
        "        self.geometry(\"1200x800\")\n",
        "        self.configure(bg='lightgray')\n",
        "\n",
        "        # Create a main canvas and scrollbars\n",
        "        main_frame = tk.Frame(self)\n",
        "        main_frame.pack(fill=tk.BOTH, expand=True)\n",
        "\n",
        "        canvas = tk.Canvas(main_frame, bg='lightgray')\n",
        "        v_scrollbar = ttk.Scrollbar(main_frame, orient=\"vertical\", command=canvas.yview)\n",
        "        h_scrollbar = ttk.Scrollbar(main_frame, orient=\"horizontal\", command=canvas.xview)\n",
        "\n",
        "        v_scrollbar.pack(side=\"right\", fill=\"y\")\n",
        "        h_scrollbar.pack(side=\"bottom\", fill=\"x\")\n",
        "        canvas.pack(side=\"left\", fill=\"both\", expand=True)\n",
        "\n",
        "        scrollable_frame = ttk.Frame(canvas)\n",
        "\n",
        "        scrollable_frame.bind(\n",
        "            \"<Configure>\",\n",
        "            lambda e: canvas.configure(\n",
        "                scrollregion=canvas.bbox(\"all\")\n",
        "            )\n",
        "        )\n",
        "\n",
        "        canvas.create_window((0, 0), window=scrollable_frame, anchor=\"nw\")\n",
        "        canvas.configure(yscrollcommand=v_scrollbar.set, xscrollcommand=h_scrollbar.set)\n",
        "\n",
        "        # Create a grid layout for the dashboard\n",
        "        for i in range(6):\n",
        "            scrollable_frame.columnconfigure(i, weight=1)\n",
        "\n",
        "        # Create and place frames for each visualization\n",
        "        self.create_category_analysis(scrollable_frame, 0, 0)\n",
        "        self.create_type_analysis(scrollable_frame, 0, 1)\n",
        "        self.create_rating_sentiment_analysis(scrollable_frame, 0, 2)\n",
        "        self.create_installation_update_analysis(scrollable_frame, 0, 3)\n",
        "        self.create_additional_insights(scrollable_frame, 0, 4)\n",
        "        self.create_ml_model_evaluation(scrollable_frame, 0, 5)\n",
        "\n",
        "    def create_category_analysis(self, parent, row, column):\n",
        "        frame = ttk.Frame(parent, padding=\"5\")\n",
        "        frame.grid(row=row, column=column, sticky=\"nsew\", pady=5)\n",
        "        frame.columnconfigure(0, weight=1)\n",
        "\n",
        "        category_counts = apps_df['Category'].value_counts().nlargest(10)\n",
        "        fig, ax = plt.subplots(figsize=(5, 3))\n",
        "        sns.barplot(x=category_counts.values, y=category_counts.index, palette='Spectral', ax=ax)\n",
        "        ax.set_title('Top Categories on Play Store')\n",
        "        ax.set_xlabel('Number of Apps')\n",
        "        ax.set_ylabel('Category')\n",
        "        fig.tight_layout()\n",
        "        canvas = FigureCanvasTkAgg(fig, master=frame)\n",
        "        canvas.draw()\n",
        "        canvas.get_tk_widget().pack(expand=True, fill=\"both\")\n",
        "\n",
        "    def create_type_analysis(self, parent, row, column):\n",
        "        frame = ttk.Frame(parent, padding=\"5\")\n",
        "        frame.grid(row=row, column=column, sticky=\"nsew\", pady=5)\n",
        "        frame.columnconfigure(0, weight=1)\n",
        "\n",
        "        type_counts = apps_df['Type'].value_counts()\n",
        "        fig, ax = plt.subplots(figsize=(3, 2))\n",
        "        ax.pie(type_counts, labels=type_counts.index, autopct='%1.1f%%', startangle=140, colors=['#ff9999', '#66b3ff'])\n",
        "        ax.set_title('Distribution of Free and Paid Apps')\n",
        "        fig.tight_layout()\n",
        "        canvas = FigureCanvasTkAgg(fig, master=frame)\n",
        "        canvas.draw()\n",
        "        canvas.get_tk_widget().pack(expand=True, fill=\"both\")\n",
        "\n",
        "    def create_rating_sentiment_analysis(self, parent, row, column):\n",
        "        frame = ttk.Frame(parent, padding=\"5\")\n",
        "        frame.grid(row=row, column=column, sticky=\"nsew\", pady=5)\n",
        "        frame.columnconfigure(0, weight=1)\n",
        "\n",
        "        fig, ax = plt.subplots(figsize=(5, 3))\n",
        "        sns.histplot(apps_df['Rating'], bins=30, kde=True, color='purple', ax=ax)\n",
        "        ax.set_title('Rating Distribution')\n",
        "        ax.set_xlabel('Rating')\n",
        "        ax.set_ylabel('Frequency')\n",
        "        fig.tight_layout()\n",
        "        canvas = FigureCanvasTkAgg(fig, master=frame)\n",
        "        canvas.draw()\n",
        "        canvas.get_tk_widget().pack(expand=True, fill=\"both\")\n",
        "\n",
        "        sentiment_counts = reviews_df['Sentiment_Score'].apply(lambda x: 'Positive' if x > 0 else ('Negative' if x < 0 else 'Neutral')).value_counts()\n",
        "        fig, ax = plt.subplots(figsize=(3, 2))\n",
        "        ax.pie(sentiment_counts, labels=sentiment_counts.index, autopct='%1.1f%%', startangle=140, colors=['#ffcc99', '#99ff99', '#66ffcc'])\n",
        "        ax.set_title('Sentiment Distribution')\n",
        "        fig.tight_layout()\n",
        "        canvas = FigureCanvasTkAgg(fig, master=frame)\n",
        "        canvas.draw()\n",
        "        canvas.get_tk_widget().pack(expand=True, fill=\"both\")\n",
        "\n",
        "    def create_installation_update_analysis(self, parent, row, column):\n",
        "        frame = ttk.Frame(parent, padding=\"5\")\n",
        "        frame.grid(row=row, column=column, sticky=\"nsew\", pady=5)\n",
        "        frame.columnconfigure(0, weight=1)\n",
        "\n",
        "        installs_by_category = apps_df.groupby('Category')['Installs'].sum().nlargest(10)\n",
        "        fig, ax = plt.subplots(figsize=(5, 3))\n",
        "        sns.barplot(x=installs_by_category.values, y=installs_by_category.index, palette='coolwarm', ax=ax)\n",
        "        ax.set_title('Installations by Category')\n",
        "        ax.set_xlabel('Number of Installations')\n",
        "        ax.set_ylabel('Category')\n",
        "        fig.tight_layout()\n",
        "        canvas = FigureCanvasTkAgg(fig, master=frame)\n",
        "        canvas.draw()\n",
        "        canvas.get_tk_widget().pack(expand=True, fill=\"both\")\n",
        "\n",
        "        updates_over_year = apps_df['Year'].value_counts().sort_index()\n",
        "        fig, ax = plt.subplots(figsize=(5, 3))\n",
        "        sns.lineplot(x=updates_over_year.index, y=updates_over_year.values, marker='o', ax=ax)\n",
        "        ax.set_title('Distribution of App Updates Over the Year')\n",
        "        ax.set_xlabel('Year')\n",
        "        ax.set_ylabel('Number of Updates')\n",
        "        fig.tight_layout()\n",
        "        canvas = FigureCanvasTkAgg(fig, master=frame)\n",
        "        canvas.draw()\n",
        "        canvas.get_tk_widget().pack(expand=True, fill=\"both\")\n",
        "\n",
        "    def create_additional_insights(self, parent, row, column):\n",
        "        frame = ttk.Frame(parent, padding=\"5\")\n",
        "        frame.grid(row=row, column=column, sticky=\"nsew\", pady=5)\n",
        "        frame.columnconfigure(0, weight=1)\n",
        "\n",
        "        revenue_by_category = apps_df.groupby('Category')['Revenue'].sum().nlargest(10)\n",
        "        fig, ax = plt.subplots(figsize=(5, 3))\n",
        "        sns.barplot(x=revenue_by_category.values, y=revenue_by_category.index, palette='viridis', ax=ax)\n",
        "        ax.set_title('Revenue by Category')\n",
        "        ax.set_xlabel('Revenue')\n",
        "        ax.set_ylabel('Category')\n",
        "        fig.tight_layout()\n",
        "        canvas = FigureCanvasTkAgg(fig, master=frame)\n",
        "        canvas.draw()\n",
        "        canvas.get_tk_widget().pack(expand=True, fill=\"both\")\n",
        "\n",
        "        genres_counts = apps_df['Genres'].str.split(';').explode().value_counts().nlargest(10)\n",
        "        fig, ax = plt.subplots(figsize=(5, 3))\n",
        "        sns.barplot(x=genres_counts.values, y=genres_counts.index, palette='magma', ax=ax)\n",
        "        ax.set_title('Top Genres on Play Store')\n",
        "        ax.set_xlabel('Number of Apps')\n",
        "        ax.set_ylabel('Genres')\n",
        "        fig.tight_layout()\n",
        "        canvas = FigureCanvasTkAgg(fig, master=frame)\n",
        "        canvas.draw()\n",
        "        canvas.get_tk_widget().pack(expand=True, fill=\"both\")\n",
        "\n",
        "        fig, ax = plt.subplots(figsize=(5, 3))\n",
        "        sns.boxplot(data=apps_df, x='Year', y='Rating', palette='cool', ax=ax)\n",
        "        ax.set_title('Effect of Last Update on Rating')\n",
        "        ax.set_xlabel('Year')\n",
        "        ax.set_ylabel('Rating')\n",
        "        fig.tight_layout()\n",
        "        canvas = FigureCanvasTkAgg(fig, master=frame)\n",
        "        canvas.draw()\n",
        "        canvas.get_tk_widget().pack(expand=True, fill=\"both\")\n",
        "\n",
        "        fig, ax = plt.subplots(figsize=(5, 3))\n",
        "        sns.boxplot(data=apps_df, x='Type', y='Rating', palette='Set2', ax=ax)\n",
        "        ax.set_title('Ratings for Paid vs Free Apps')\n",
        "        ax.set_xlabel('Type')\n",
        "        ax.set_ylabel('Rating')\n",
        "        fig.tight_layout()\n",
        "        canvas = FigureCanvasTkAgg(fig, master=frame)\n",
        "        canvas.draw()\n",
        "        canvas.get_tk_widget().pack(expand=True, fill=\"both\")\n",
        "\n",
        "    def create_ml_model_evaluation(self, parent, row, column):\n",
        "        frame = ttk.Frame(parent, padding=\"5\")\n",
        "        frame.grid(row=row, column=column, sticky=\"nsew\", pady=5)\n",
        "        frame.columnconfigure(0, weight=1)\n",
        "\n",
        "        X = apps_df[['Log_Reviews', 'Log_Installs', 'Price']]\n",
        "        y = apps_df['Rating']\n",
        "\n",
        "        X_train, X_test, y_train, y_test = train_test_split(X, y, test_size=0.2, random_state=42)\n",
        "\n",
        "        model = RandomForestRegressor(n_estimators=100, random_state=42)\n",
        "        model.fit(X_train, y_train)\n",
        "        y_pred = model.predict(X_test)\n",
        "\n",
        "        mse = mean_squared_error(y_test, y_pred)\n",
        "        r2 = r2_score(y_test, y_pred)\n",
        "\n",
        "        fig, ax = plt.subplots(figsize=(5, 3))\n",
        "        ax.scatter(y_test, y_pred, alpha=0.3)\n",
        "        ax.plot([0, 5], [0, 5], 'r--')\n",
        "        ax.set_title(f'ML Model Evaluation (MSE: {mse:.2f}, R2: {r2:.2f})')\n",
        "        ax.set_xlabel('True Rating')\n",
        "        ax.set_ylabel('Predicted Rating')\n",
        "        fig.tight_layout()\n",
        "        canvas = FigureCanvasTkAgg(fig, master=frame)\n",
        "        canvas.draw()\n",
        "        canvas.get_tk_widget().pack(expand=True, fill=\"both\")\n",
        "\n",
        "if __name__ == \"__main__\":\n",
        "    app = AppDashboard()\n",
        "    app.mainloop()"
      ]
    },
    {
      "cell_type": "code",
      "execution_count": null,
      "id": "5f343fb5-af30-4aa9-a63e-830993bae63e",
      "metadata": {
        "id": "5f343fb5-af30-4aa9-a63e-830993bae63e"
      },
      "outputs": [],
      "source": []
    }
  ],
  "metadata": {
    "kernelspec": {
      "display_name": "Python 3 (ipykernel)",
      "language": "python",
      "name": "python3"
    },
    "language_info": {
      "codemirror_mode": {
        "name": "ipython",
        "version": 3
      },
      "file_extension": ".py",
      "mimetype": "text/x-python",
      "name": "python",
      "nbconvert_exporter": "python",
      "pygments_lexer": "ipython3",
      "version": "3.12.4"
    },
    "colab": {
      "provenance": []
    }
  },
  "nbformat": 4,
  "nbformat_minor": 5
}